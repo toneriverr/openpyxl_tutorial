{
 "cells": [
  {
   "cell_type": "markdown",
   "id": "cc9153d6-4aed-4c96-b57c-d92bf1889465",
   "metadata": {
    "tags": []
   },
   "source": [
    "# Excel操作基礎編"
   ]
  },
  {
   "cell_type": "markdown",
   "id": "bcd7c0d3-0fe9-4601-a0a3-abd575106213",
   "metadata": {
    "tags": []
   },
   "source": [
    "## ファイルの作成"
   ]
  },
  {
   "cell_type": "code",
   "execution_count": 1,
   "id": "5142227e-1382-4094-a2ee-594e257719ea",
   "metadata": {
    "execution": {
     "iopub.execute_input": "2023-12-29T12:04:26.753800Z",
     "iopub.status.busy": "2023-12-29T12:04:26.751512Z",
     "iopub.status.idle": "2023-12-29T12:04:27.164752Z",
     "shell.execute_reply": "2023-12-29T12:04:27.164647Z",
     "shell.execute_reply.started": "2023-12-29T12:04:26.753800Z"
    },
    "tags": []
   },
   "outputs": [],
   "source": [
    "import openpyxl as xl\n",
    "\n",
    "# 新規ワークブックを作る\n",
    "wb = xl.Workbook()\n",
    "\n",
    "# アクティブなワークシートを作る\n",
    "ws = wb.active\n",
    "\n",
    "ws[\"A1\"] = \"こんにちは\"\n",
    "wb.save(\"1_1_hello.xlsx\")"
   ]
  },
  {
   "cell_type": "markdown",
   "id": "a8044eb6-b2d6-440d-927b-54cc96546285",
   "metadata": {
    "tags": []
   },
   "source": [
    "## ファイルの読み込み"
   ]
  },
  {
   "cell_type": "code",
   "execution_count": 2,
   "id": "8cac37ed-6a26-47d9-b07b-e88be6303a4e",
   "metadata": {
    "execution": {
     "iopub.execute_input": "2023-12-29T12:04:27.165784Z",
     "iopub.status.busy": "2023-12-29T12:04:27.165784Z",
     "iopub.status.idle": "2023-12-29T12:04:27.189915Z",
     "shell.execute_reply": "2023-12-29T12:04:27.189915Z",
     "shell.execute_reply.started": "2023-12-29T12:04:27.165784Z"
    },
    "tags": []
   },
   "outputs": [
    {
     "name": "stdout",
     "output_type": "stream",
     "text": [
      "こんにちは\n"
     ]
    }
   ],
   "source": [
    "import openpyxl as xl\n",
    "wb = xl.load_workbook(\"hello.xlsx\")\n",
    "\n",
    "# 先頭のワークシートを取り出す\n",
    "ws = wb.worksheets[0]\n",
    "\n",
    "# A1セルの値を取り出す\n",
    "cell = ws[\"A1\"]\n",
    "\n",
    "print(cell.value)"
   ]
  },
  {
   "cell_type": "markdown",
   "id": "baa9c6c5-d529-487b-a20c-a32f1db7d06a",
   "metadata": {
    "execution": {
     "iopub.execute_input": "2023-12-29T09:55:41.590035Z",
     "iopub.status.busy": "2023-12-29T09:55:41.590035Z",
     "iopub.status.idle": "2023-12-29T09:55:41.598515Z",
     "shell.execute_reply": "2023-12-29T09:55:41.598033Z",
     "shell.execute_reply.started": "2023-12-29T09:55:41.590035Z"
    },
    "tags": []
   },
   "source": [
    "## ファイルへの書き込み"
   ]
  },
  {
   "cell_type": "code",
   "execution_count": 3,
   "id": "ce55cea2-dd0c-4081-83fd-497a9f4ad855",
   "metadata": {
    "execution": {
     "iopub.execute_input": "2023-12-29T12:04:27.191962Z",
     "iopub.status.busy": "2023-12-29T12:04:27.191850Z",
     "iopub.status.idle": "2023-12-29T12:04:27.211612Z",
     "shell.execute_reply": "2023-12-29T12:04:27.211612Z",
     "shell.execute_reply.started": "2023-12-29T12:04:27.191962Z"
    },
    "tags": []
   },
   "outputs": [],
   "source": [
    "import openpyxl as xl\n",
    "\n",
    "wb = xl.Workbook()\n",
    "ws = wb.active\n",
    "\n",
    "# セル名への書き込み\n",
    "ws[\"A1\"] = \"他者と比較するのではなく、過去の自分と比較する\"\n",
    "\n",
    "# 行列指定の書き込み\n",
    "ws.cell(row=2,column=1,value=\"俺とおまえは意見が違うからお互いに存在価値があるんだ。\")\n",
    "\n",
    "cell = ws.cell(row=3,column=1)\n",
    "cell.value = \"勝つこととは、負けを恐れないことを意味する。\"\n",
    "\n",
    "wb.save(\"cell_write.xlsx\")"
   ]
  },
  {
   "cell_type": "markdown",
   "id": "21d96075-5722-4afa-b728-d1b1f0de494d",
   "metadata": {},
   "source": [
    "### 連続で値を書き込む"
   ]
  },
  {
   "cell_type": "code",
   "execution_count": 4,
   "id": "24a43b19-5bf8-4a4c-862f-be161b78dc45",
   "metadata": {
    "execution": {
     "iopub.execute_input": "2023-12-29T12:04:27.211612Z",
     "iopub.status.busy": "2023-12-29T12:04:27.211612Z",
     "iopub.status.idle": "2023-12-29T12:04:27.226817Z",
     "shell.execute_reply": "2023-12-29T12:04:27.226817Z",
     "shell.execute_reply.started": "2023-12-29T12:04:27.211612Z"
    },
    "tags": []
   },
   "outputs": [],
   "source": [
    "import openpyxl as xl\n",
    "\n",
    "wb = xl.Workbook()\n",
    "ws = wb.active\n",
    "\n",
    "for i in range(10):\n",
    "    ws.cell(row = (i+1),column = 1,value =i)\n",
    "    \n",
    "wb.save(\"renzoku.xlsx\")"
   ]
  },
  {
   "cell_type": "markdown",
   "id": "ead9c2f3-86f1-492c-8901-e8c96670ae5b",
   "metadata": {},
   "source": [
    "### 九九の表を作成"
   ]
  },
  {
   "cell_type": "code",
   "execution_count": 5,
   "id": "2b9d720a-1801-4d08-b71c-22d4976ca7e9",
   "metadata": {
    "execution": {
     "iopub.execute_input": "2023-12-29T12:04:27.228824Z",
     "iopub.status.busy": "2023-12-29T12:04:27.227828Z",
     "iopub.status.idle": "2023-12-29T12:04:27.502751Z",
     "shell.execute_reply": "2023-12-29T12:04:27.502678Z",
     "shell.execute_reply.started": "2023-12-29T12:04:27.227828Z"
    },
    "tags": []
   },
   "outputs": [
    {
     "data": {
      "text/html": [
       "<div>\n",
       "<style scoped>\n",
       "    .dataframe tbody tr th:only-of-type {\n",
       "        vertical-align: middle;\n",
       "    }\n",
       "\n",
       "    .dataframe tbody tr th {\n",
       "        vertical-align: top;\n",
       "    }\n",
       "\n",
       "    .dataframe thead th {\n",
       "        text-align: right;\n",
       "    }\n",
       "</style>\n",
       "<table border=\"1\" class=\"dataframe\">\n",
       "  <thead>\n",
       "    <tr style=\"text-align: right;\">\n",
       "      <th></th>\n",
       "      <th>0</th>\n",
       "      <th>1</th>\n",
       "      <th>2</th>\n",
       "      <th>3</th>\n",
       "      <th>4</th>\n",
       "      <th>5</th>\n",
       "      <th>6</th>\n",
       "      <th>7</th>\n",
       "      <th>8</th>\n",
       "    </tr>\n",
       "  </thead>\n",
       "  <tbody>\n",
       "    <tr>\n",
       "      <th>0</th>\n",
       "      <td>1</td>\n",
       "      <td>2</td>\n",
       "      <td>3</td>\n",
       "      <td>4</td>\n",
       "      <td>5</td>\n",
       "      <td>6</td>\n",
       "      <td>7</td>\n",
       "      <td>8</td>\n",
       "      <td>9</td>\n",
       "    </tr>\n",
       "    <tr>\n",
       "      <th>1</th>\n",
       "      <td>2</td>\n",
       "      <td>4</td>\n",
       "      <td>6</td>\n",
       "      <td>8</td>\n",
       "      <td>10</td>\n",
       "      <td>12</td>\n",
       "      <td>14</td>\n",
       "      <td>16</td>\n",
       "      <td>18</td>\n",
       "    </tr>\n",
       "    <tr>\n",
       "      <th>2</th>\n",
       "      <td>3</td>\n",
       "      <td>6</td>\n",
       "      <td>9</td>\n",
       "      <td>12</td>\n",
       "      <td>15</td>\n",
       "      <td>18</td>\n",
       "      <td>21</td>\n",
       "      <td>24</td>\n",
       "      <td>27</td>\n",
       "    </tr>\n",
       "    <tr>\n",
       "      <th>3</th>\n",
       "      <td>4</td>\n",
       "      <td>8</td>\n",
       "      <td>12</td>\n",
       "      <td>16</td>\n",
       "      <td>20</td>\n",
       "      <td>24</td>\n",
       "      <td>28</td>\n",
       "      <td>32</td>\n",
       "      <td>36</td>\n",
       "    </tr>\n",
       "    <tr>\n",
       "      <th>4</th>\n",
       "      <td>5</td>\n",
       "      <td>10</td>\n",
       "      <td>15</td>\n",
       "      <td>20</td>\n",
       "      <td>25</td>\n",
       "      <td>30</td>\n",
       "      <td>35</td>\n",
       "      <td>40</td>\n",
       "      <td>45</td>\n",
       "    </tr>\n",
       "    <tr>\n",
       "      <th>5</th>\n",
       "      <td>6</td>\n",
       "      <td>12</td>\n",
       "      <td>18</td>\n",
       "      <td>24</td>\n",
       "      <td>30</td>\n",
       "      <td>36</td>\n",
       "      <td>42</td>\n",
       "      <td>48</td>\n",
       "      <td>54</td>\n",
       "    </tr>\n",
       "    <tr>\n",
       "      <th>6</th>\n",
       "      <td>7</td>\n",
       "      <td>14</td>\n",
       "      <td>21</td>\n",
       "      <td>28</td>\n",
       "      <td>35</td>\n",
       "      <td>42</td>\n",
       "      <td>49</td>\n",
       "      <td>56</td>\n",
       "      <td>63</td>\n",
       "    </tr>\n",
       "    <tr>\n",
       "      <th>7</th>\n",
       "      <td>8</td>\n",
       "      <td>16</td>\n",
       "      <td>24</td>\n",
       "      <td>32</td>\n",
       "      <td>40</td>\n",
       "      <td>48</td>\n",
       "      <td>56</td>\n",
       "      <td>64</td>\n",
       "      <td>72</td>\n",
       "    </tr>\n",
       "    <tr>\n",
       "      <th>8</th>\n",
       "      <td>9</td>\n",
       "      <td>18</td>\n",
       "      <td>27</td>\n",
       "      <td>36</td>\n",
       "      <td>45</td>\n",
       "      <td>54</td>\n",
       "      <td>63</td>\n",
       "      <td>72</td>\n",
       "      <td>81</td>\n",
       "    </tr>\n",
       "  </tbody>\n",
       "</table>\n",
       "</div>"
      ],
      "text/plain": [
       "   0   1   2   3   4   5   6   7   8\n",
       "0  1   2   3   4   5   6   7   8   9\n",
       "1  2   4   6   8  10  12  14  16  18\n",
       "2  3   6   9  12  15  18  21  24  27\n",
       "3  4   8  12  16  20  24  28  32  36\n",
       "4  5  10  15  20  25  30  35  40  45\n",
       "5  6  12  18  24  30  36  42  48  54\n",
       "6  7  14  21  28  35  42  49  56  63\n",
       "7  8  16  24  32  40  48  56  64  72\n",
       "8  9  18  27  36  45  54  63  72  81"
      ]
     },
     "execution_count": 5,
     "metadata": {},
     "output_type": "execute_result"
    }
   ],
   "source": [
    "import openpyxl as xl\n",
    "import pandas as pd\n",
    "\n",
    "wb = xl.Workbook()\n",
    "ws = wb.active\n",
    "\n",
    "for i in range(1,10):\n",
    "    for j in range(1,10):\n",
    "        ws.cell(row = i,column = j,value =i*j)\n",
    "\n",
    "wb.save(\"9×9.xlsx\")       \n",
    "df = pd.read_excel(\"9×9.xlsx\",header=None)\n",
    "df"
   ]
  },
  {
   "cell_type": "markdown",
   "id": "3b509d6b-8448-4129-bc0a-84d0062ac7a8",
   "metadata": {},
   "source": [
    "### セル名で入力（cordinateプロパティ）"
   ]
  },
  {
   "cell_type": "code",
   "execution_count": 6,
   "id": "ef27082a-6f28-49b2-a3ff-3e31abd86065",
   "metadata": {
    "execution": {
     "iopub.execute_input": "2023-12-29T12:04:27.503766Z",
     "iopub.status.busy": "2023-12-29T12:04:27.503766Z",
     "iopub.status.idle": "2023-12-29T12:04:27.673003Z",
     "shell.execute_reply": "2023-12-29T12:04:27.673003Z",
     "shell.execute_reply.started": "2023-12-29T12:04:27.503766Z"
    },
    "tags": []
   },
   "outputs": [],
   "source": [
    "import openpyxl as xl\n",
    "import pandas as pd\n",
    "\n",
    "wb = xl.Workbook()\n",
    "ws = wb.active\n",
    "\n",
    "for i in range(1,101):\n",
    "    for j in range(1,101):\n",
    "        cell = ws.cell(row = i,column = j)\n",
    "        \n",
    "        # セル名が取得できるcordinateプロパティ\n",
    "        cell.value = cell.coordinate\n",
    "        \n",
    "wb.save(\"test100.xlsx\")          "
   ]
  },
  {
   "cell_type": "markdown",
   "id": "77b34b75-368b-4135-879e-e5569c4cefa2",
   "metadata": {
    "jp-MarkdownHeadingCollapsed": true,
    "tags": []
   },
   "source": [
    "## Excelシート自動生成のアイデア"
   ]
  },
  {
   "cell_type": "markdown",
   "id": "9e98621a-575b-4a6b-a0d6-0d7947e568e7",
   "metadata": {},
   "source": [
    "### 年齢生年対応表"
   ]
  },
  {
   "cell_type": "code",
   "execution_count": 7,
   "id": "37420289-6007-4bf2-871e-560366a548a3",
   "metadata": {
    "execution": {
     "iopub.execute_input": "2023-12-29T12:04:27.673003Z",
     "iopub.status.busy": "2023-12-29T12:04:27.673003Z",
     "iopub.status.idle": "2023-12-29T12:04:27.713602Z",
     "shell.execute_reply": "2023-12-29T12:04:27.713602Z",
     "shell.execute_reply.started": "2023-12-29T12:04:27.673003Z"
    },
    "tags": []
   },
   "outputs": [
    {
     "data": {
      "text/html": [
       "<div>\n",
       "<style scoped>\n",
       "    .dataframe tbody tr th:only-of-type {\n",
       "        vertical-align: middle;\n",
       "    }\n",
       "\n",
       "    .dataframe tbody tr th {\n",
       "        vertical-align: top;\n",
       "    }\n",
       "\n",
       "    .dataframe thead th {\n",
       "        text-align: right;\n",
       "    }\n",
       "</style>\n",
       "<table border=\"1\" class=\"dataframe\">\n",
       "  <thead>\n",
       "    <tr style=\"text-align: right;\">\n",
       "      <th></th>\n",
       "      <th>0</th>\n",
       "      <th>1</th>\n",
       "    </tr>\n",
       "  </thead>\n",
       "  <tbody>\n",
       "    <tr>\n",
       "      <th>0</th>\n",
       "      <td>0歳</td>\n",
       "      <td>2023年</td>\n",
       "    </tr>\n",
       "    <tr>\n",
       "      <th>1</th>\n",
       "      <td>1歳</td>\n",
       "      <td>2022年</td>\n",
       "    </tr>\n",
       "    <tr>\n",
       "      <th>2</th>\n",
       "      <td>2歳</td>\n",
       "      <td>2021年</td>\n",
       "    </tr>\n",
       "    <tr>\n",
       "      <th>3</th>\n",
       "      <td>3歳</td>\n",
       "      <td>2020年</td>\n",
       "    </tr>\n",
       "    <tr>\n",
       "      <th>4</th>\n",
       "      <td>4歳</td>\n",
       "      <td>2019年</td>\n",
       "    </tr>\n",
       "    <tr>\n",
       "      <th>5</th>\n",
       "      <td>5歳</td>\n",
       "      <td>2018年</td>\n",
       "    </tr>\n",
       "    <tr>\n",
       "      <th>6</th>\n",
       "      <td>6歳</td>\n",
       "      <td>2017年</td>\n",
       "    </tr>\n",
       "    <tr>\n",
       "      <th>7</th>\n",
       "      <td>7歳</td>\n",
       "      <td>2016年</td>\n",
       "    </tr>\n",
       "  </tbody>\n",
       "</table>\n",
       "</div>"
      ],
      "text/plain": [
       "    0      1\n",
       "0  0歳  2023年\n",
       "1  1歳  2022年\n",
       "2  2歳  2021年\n",
       "3  3歳  2020年\n",
       "4  4歳  2019年\n",
       "5  5歳  2018年\n",
       "6  6歳  2017年\n",
       "7  7歳  2016年"
      ]
     },
     "execution_count": 7,
     "metadata": {},
     "output_type": "execute_result"
    }
   ],
   "source": [
    "import openpyxl as xl\n",
    "import datetime\n",
    "import pandas as pd\n",
    "\n",
    "wb = xl.Workbook()\n",
    "ws = wb.active\n",
    "\n",
    "thisyear = datetime.date.today().year\n",
    "\n",
    "for i in range(80):\n",
    "    age = i\n",
    "    year = thisyear - i\n",
    "    \n",
    "    age_cell = ws.cell(i+1,1)\n",
    "    age_cell.value = str(i) + \"歳\"\n",
    "    \n",
    "    year_cell = ws.cell(i+1,2)\n",
    "    year_cell.value = str(year)+\"年\"\n",
    "    \n",
    "wb.save(\"agelist.xlsx\")  \n",
    "df = pd.read_excel(\"agelist.xlsx\",header=None)\n",
    "df.head(8)"
   ]
  },
  {
   "cell_type": "markdown",
   "id": "59a93ee0-e987-4333-bf1b-07c9c54b6855",
   "metadata": {},
   "source": [
    "### 小学校入学年度を計算"
   ]
  },
  {
   "cell_type": "code",
   "execution_count": 8,
   "id": "830d2bf0-1344-425e-9459-84495f3e6e02",
   "metadata": {
    "execution": {
     "iopub.execute_input": "2023-12-29T12:04:27.714652Z",
     "iopub.status.busy": "2023-12-29T12:04:27.714652Z",
     "iopub.status.idle": "2023-12-29T12:04:27.728568Z",
     "shell.execute_reply": "2023-12-29T12:04:27.728347Z",
     "shell.execute_reply.started": "2023-12-29T12:04:27.714652Z"
    },
    "tags": []
   },
   "outputs": [],
   "source": [
    "import openpyxl as xl\n",
    "import datetime\n",
    "\n",
    "wb = xl.Workbook()\n",
    "ws = wb.active\n",
    "\n",
    "base_year = datetime.date.today().year - 20\n",
    "\n",
    "for i in range(20):\n",
    "    year = base_year + i\n",
    "    s1 = year - 7 # 4/2以降に生まれた人\n",
    "    s2 = year - 6 # 早生まれの人\n",
    "    sf = f\"{s1}年4/2～{s2}年4/1に生まれた人\"\n",
    "    \n",
    "    ws.cell(row = i+1,column=1,value=str(year)+\"年度\")\n",
    "    ws.cell(row = i+1,column=2,value=sf)\n",
    "    \n",
    "wb.save(\"入学list.xlsx\") "
   ]
  },
  {
   "cell_type": "markdown",
   "id": "5ce5c7fd-80a8-48d7-8509-bbc5690c031c",
   "metadata": {
    "tags": []
   },
   "source": [
    "## Excelシートの連続読み込み"
   ]
  },
  {
   "cell_type": "markdown",
   "id": "69423968-c64e-40c3-9624-02f89919305b",
   "metadata": {},
   "source": [
    "### for文で１つずつ範囲内のセルを得る"
   ]
  },
  {
   "cell_type": "code",
   "execution_count": 9,
   "id": "2f95b47a-5f2c-4540-947c-ed0ea48739f4",
   "metadata": {
    "execution": {
     "iopub.execute_input": "2023-12-29T12:04:27.729710Z",
     "iopub.status.busy": "2023-12-29T12:04:27.729710Z",
     "iopub.status.idle": "2023-12-29T12:04:27.886174Z",
     "shell.execute_reply": "2023-12-29T12:04:27.886174Z",
     "shell.execute_reply.started": "2023-12-29T12:04:27.729710Z"
    },
    "tags": []
   },
   "outputs": [
    {
     "name": "stdout",
     "output_type": "stream",
     "text": [
      "['B2', 'C2', 'D2']\n",
      "['B3', 'C3', 'D3']\n",
      "['B4', 'C4', 'D4']\n"
     ]
    }
   ],
   "source": [
    "import openpyxl as xl\n",
    "\n",
    "wb = xl.load_workbook(\"test100.xlsx\")\n",
    "ws = wb.active\n",
    "\n",
    "for y in range(2,5):\n",
    "    r = []\n",
    "    for x in range(2,5):\n",
    "        v = ws.cell(y,x).value\n",
    "        r.append(v)\n",
    "    print(r)"
   ]
  },
  {
   "cell_type": "markdown",
   "id": "5fff9717-c3b0-4bbd-8c5b-ad210204eb5a",
   "metadata": {},
   "source": [
    "### ワークシートの特定の範囲を取り出す方法"
   ]
  },
  {
   "cell_type": "code",
   "execution_count": 10,
   "id": "d15a2297-08f6-4222-9200-e6d0944e8931",
   "metadata": {
    "execution": {
     "iopub.execute_input": "2023-12-29T12:04:27.886174Z",
     "iopub.status.busy": "2023-12-29T12:04:27.886174Z",
     "iopub.status.idle": "2023-12-29T12:04:28.080788Z",
     "shell.execute_reply": "2023-12-29T12:04:28.080788Z",
     "shell.execute_reply.started": "2023-12-29T12:04:27.886174Z"
    },
    "tags": []
   },
   "outputs": [
    {
     "name": "stdout",
     "output_type": "stream",
     "text": [
      "['B2', 'C2', 'D2', 'E2', 'F2']\n",
      "['B3', 'C3', 'D3', 'E3', 'F3']\n",
      "['B4', 'C4', 'D4', 'E4', 'F4']\n"
     ]
    }
   ],
   "source": [
    "import openpyxl as xl\n",
    "\n",
    "wb = xl.load_workbook(\"test100.xlsx\")\n",
    "ws = wb.active\n",
    "\n",
    "# for row in ws[\"B2\":\"F4\"]:\n",
    "#     r = []\n",
    "#     for cell in row:\n",
    "#         r.append(cell.value)\n",
    "#     print(r)\n",
    "    \n",
    "#リスト内包表記\n",
    "for row in ws[\"B2\":\"F4\"]:\n",
    "    print([c.value for c in row])"
   ]
  },
  {
   "cell_type": "markdown",
   "id": "ef8bffa3-7684-4efd-acec-1790872380cf",
   "metadata": {},
   "source": [
    "### iter_rowsで繰り返し指定範囲を取得"
   ]
  },
  {
   "cell_type": "code",
   "execution_count": 11,
   "id": "620a2f36-a557-4366-a68a-1f1b1081b1e1",
   "metadata": {
    "execution": {
     "iopub.execute_input": "2023-12-29T12:04:28.082210Z",
     "iopub.status.busy": "2023-12-29T12:04:28.081846Z",
     "iopub.status.idle": "2023-12-29T12:04:28.231530Z",
     "shell.execute_reply": "2023-12-29T12:04:28.231530Z",
     "shell.execute_reply.started": "2023-12-29T12:04:28.082210Z"
    },
    "tags": []
   },
   "outputs": [
    {
     "name": "stdout",
     "output_type": "stream",
     "text": [
      "['B2', 'C2', 'D2']\n",
      "['B3', 'C3', 'D3']\n",
      "['B4', 'C4', 'D4']\n",
      "['B5', 'C5', 'D5']\n"
     ]
    }
   ],
   "source": [
    "import openpyxl as xl\n",
    "\n",
    "wb = xl.load_workbook(\"test100.xlsx\")\n",
    "ws = wb.active\n",
    "\n",
    "it = ws.iter_rows(\n",
    "        min_row = 2, min_col = 2, \n",
    "        max_row = 5, max_col = 4)\n",
    "\n",
    "for row in it:\n",
    "    r = []\n",
    "    for cell in row:\n",
    "        r.append(cell.value)\n",
    "    print(r)"
   ]
  },
  {
   "cell_type": "markdown",
   "id": "9ca8d550-ed9a-472a-ac68-0c99e3c82d24",
   "metadata": {},
   "source": [
    "## Excelシート抽出テクニック"
   ]
  },
  {
   "cell_type": "code",
   "execution_count": 18,
   "id": "34859643-838a-497c-a841-edc0fc405456",
   "metadata": {
    "execution": {
     "iopub.execute_input": "2023-12-29T12:31:54.249218Z",
     "iopub.status.busy": "2023-12-29T12:31:54.248221Z",
     "iopub.status.idle": "2023-12-29T12:31:54.264590Z",
     "shell.execute_reply": "2023-12-29T12:31:54.264051Z",
     "shell.execute_reply.started": "2023-12-29T12:31:54.249218Z"
    },
    "tags": []
   },
   "outputs": [
    {
     "name": "stdout",
     "output_type": "stream",
     "text": [
      "['日付', '購入者', '品目', '個数', '値段', '小計']\n",
      "[datetime.datetime(2020, 3, 3, 0, 0), '鈴木太郎', 'バナナ', 3, 1000, 3000]\n",
      "[datetime.datetime(2020, 3, 5, 0, 0), '伊藤次郎', 'リンゴ', 2, 1500, 3000]\n",
      "[datetime.datetime(2020, 3, 5, 0, 0), '西川三郎', 'イチゴ', 2, 2000, 4000]\n",
      "[datetime.datetime(2020, 3, 7, 0, 0), '山田史朗', 'バナナ', 8, 1000, 8000]\n",
      "[datetime.datetime(2020, 3, 15, 0, 0), '伊藤次郎', 'リンゴ', 2, 1500, 3000]\n",
      "[datetime.datetime(2020, 3, 16, 0, 0), '山田史朗', 'イチゴ', 5, 2000, 10000]\n",
      "[datetime.datetime(2020, 3, 20, 0, 0), '山下五郎', 'マンゴー', 3, 1900, 5700]\n"
     ]
    }
   ],
   "source": [
    "import openpyxl as xl\n",
    "import pandas as pd\n",
    "wb = xl.load_workbook(r\"C:\\Users\\toneriver\\Desktop\\python学習\\自動処理の教科書\\sample\\ch2\\uriage.xlsx\",data_only=True)\n",
    "ws = wb.active\n",
    "\n",
    "rows = ws[\"A2\":\"F9\"]\n",
    "\n",
    "for row in rows:\n",
    "    print([c.value for c in row])"
   ]
  },
  {
   "cell_type": "markdown",
   "id": "397be117-522b-48e4-830c-6d32b7e3da2f",
   "metadata": {},
   "source": [
    "## Excel間を何度も行き来してコピペ"
   ]
  },
  {
   "cell_type": "code",
   "execution_count": 44,
   "id": "7af545e1-aa2f-4b70-9fe9-959294cf85eb",
   "metadata": {
    "execution": {
     "iopub.execute_input": "2023-12-29T12:54:15.870566Z",
     "iopub.status.busy": "2023-12-29T12:54:15.870566Z",
     "iopub.status.idle": "2023-12-29T12:54:15.916027Z",
     "shell.execute_reply": "2023-12-29T12:54:15.914794Z",
     "shell.execute_reply.started": "2023-12-29T12:54:15.870566Z"
    },
    "tags": []
   },
   "outputs": [
    {
     "data": {
      "text/html": [
       "<div>\n",
       "<style scoped>\n",
       "    .dataframe tbody tr th:only-of-type {\n",
       "        vertical-align: middle;\n",
       "    }\n",
       "\n",
       "    .dataframe tbody tr th {\n",
       "        vertical-align: top;\n",
       "    }\n",
       "\n",
       "    .dataframe thead th {\n",
       "        text-align: right;\n",
       "    }\n",
       "</style>\n",
       "<table border=\"1\" class=\"dataframe\">\n",
       "  <thead>\n",
       "    <tr style=\"text-align: right;\">\n",
       "      <th></th>\n",
       "      <th>名前</th>\n",
       "      <th>住所</th>\n",
       "      <th>購入プラン</th>\n",
       "    </tr>\n",
       "  </thead>\n",
       "  <tbody>\n",
       "    <tr>\n",
       "      <th>0</th>\n",
       "      <td>古田 みき</td>\n",
       "      <td>名古屋市</td>\n",
       "      <td>A</td>\n",
       "    </tr>\n",
       "    <tr>\n",
       "      <th>1</th>\n",
       "      <td>小田 誉大</td>\n",
       "      <td>大阪府</td>\n",
       "      <td>A</td>\n",
       "    </tr>\n",
       "    <tr>\n",
       "      <th>2</th>\n",
       "      <td>石塚 晃</td>\n",
       "      <td>京都市</td>\n",
       "      <td>A</td>\n",
       "    </tr>\n",
       "    <tr>\n",
       "      <th>3</th>\n",
       "      <td>山中 武雄</td>\n",
       "      <td>横浜市</td>\n",
       "      <td>B</td>\n",
       "    </tr>\n",
       "    <tr>\n",
       "      <th>4</th>\n",
       "      <td>二宮 良知</td>\n",
       "      <td>川崎市</td>\n",
       "      <td>B</td>\n",
       "    </tr>\n",
       "    <tr>\n",
       "      <th>...</th>\n",
       "      <td>...</td>\n",
       "      <td>...</td>\n",
       "      <td>...</td>\n",
       "    </tr>\n",
       "    <tr>\n",
       "      <th>95</th>\n",
       "      <td>内山 英彦</td>\n",
       "      <td>さいたま市</td>\n",
       "      <td>D</td>\n",
       "    </tr>\n",
       "    <tr>\n",
       "      <th>96</th>\n",
       "      <td>尾崎 章二</td>\n",
       "      <td>長野市</td>\n",
       "      <td>D</td>\n",
       "    </tr>\n",
       "    <tr>\n",
       "      <th>97</th>\n",
       "      <td>堀江 聡</td>\n",
       "      <td>堺市</td>\n",
       "      <td>D</td>\n",
       "    </tr>\n",
       "    <tr>\n",
       "      <th>98</th>\n",
       "      <td>田中 勝</td>\n",
       "      <td>札幌市</td>\n",
       "      <td>D</td>\n",
       "    </tr>\n",
       "    <tr>\n",
       "      <th>99</th>\n",
       "      <td>下村 純一</td>\n",
       "      <td>名古屋市</td>\n",
       "      <td>D</td>\n",
       "    </tr>\n",
       "  </tbody>\n",
       "</table>\n",
       "<p>100 rows × 3 columns</p>\n",
       "</div>"
      ],
      "text/plain": [
       "       名前     住所 購入プラン\n",
       "0   古田 みき   名古屋市     A\n",
       "1   小田 誉大    大阪府     A\n",
       "2    石塚 晃    京都市     A\n",
       "3   山中 武雄    横浜市     B\n",
       "4   二宮 良知    川崎市     B\n",
       "..    ...    ...   ...\n",
       "95  内山 英彦  さいたま市     D\n",
       "96  尾崎 章二    長野市     D\n",
       "97   堀江 聡     堺市     D\n",
       "98   田中 勝    札幌市     D\n",
       "99  下村 純一   名古屋市     D\n",
       "\n",
       "[100 rows x 3 columns]"
      ]
     },
     "execution_count": 44,
     "metadata": {},
     "output_type": "execute_result"
    }
   ],
   "source": [
    "import openpyxl as xl\n",
    "import pandas as pd\n",
    "wb = xl.load_workbook(r\"C:\\Users\\toneriver\\Desktop\\python学習\\自動処理の教科書\\sample\\ch2\\all-customer.xlsx\",data_only=True)\n",
    "\n",
    "# 名簿のシートを選択\n",
    "ws = wb[\"名簿\"]\n",
    "\n",
    "# 抜き出すカラム名を指定\n",
    "columns = [[\"名前\",\"住所\",\"購入プラン\"]]\n",
    "\n",
    "df = pd.read_excel(r\"C:\\Users\\toneriver\\Desktop\\python学習\\自動処理の教科書\\sample\\ch2\\all-customer.xlsx\",header=1)\n",
    "df"
   ]
  },
  {
   "cell_type": "code",
   "execution_count": 46,
   "id": "e62c1135-3d21-4d2b-a1e3-cb3e8b6bd70d",
   "metadata": {
    "execution": {
     "iopub.execute_input": "2023-12-29T12:54:27.162348Z",
     "iopub.status.busy": "2023-12-29T12:54:27.162348Z",
     "iopub.status.idle": "2023-12-29T12:54:27.171241Z",
     "shell.execute_reply": "2023-12-29T12:54:27.171241Z",
     "shell.execute_reply.started": "2023-12-29T12:54:27.162348Z"
    },
    "tags": []
   },
   "outputs": [
    {
     "data": {
      "text/html": [
       "<div>\n",
       "<style scoped>\n",
       "    .dataframe tbody tr th:only-of-type {\n",
       "        vertical-align: middle;\n",
       "    }\n",
       "\n",
       "    .dataframe tbody tr th {\n",
       "        vertical-align: top;\n",
       "    }\n",
       "\n",
       "    .dataframe thead th {\n",
       "        text-align: right;\n",
       "    }\n",
       "</style>\n",
       "<table border=\"1\" class=\"dataframe\">\n",
       "  <thead>\n",
       "    <tr style=\"text-align: right;\">\n",
       "      <th></th>\n",
       "      <th>名前</th>\n",
       "      <th>住所</th>\n",
       "      <th>購入プラン</th>\n",
       "    </tr>\n",
       "  </thead>\n",
       "  <tbody>\n",
       "    <tr>\n",
       "      <th>3</th>\n",
       "      <td>山中 武雄</td>\n",
       "      <td>横浜市</td>\n",
       "      <td>B</td>\n",
       "    </tr>\n",
       "    <tr>\n",
       "      <th>14</th>\n",
       "      <td>児玉 次郎</td>\n",
       "      <td>横浜市</td>\n",
       "      <td>D</td>\n",
       "    </tr>\n",
       "    <tr>\n",
       "      <th>25</th>\n",
       "      <td>東 太陽</td>\n",
       "      <td>横浜市</td>\n",
       "      <td>B</td>\n",
       "    </tr>\n",
       "    <tr>\n",
       "      <th>36</th>\n",
       "      <td>小西 博</td>\n",
       "      <td>横浜市</td>\n",
       "      <td>D</td>\n",
       "    </tr>\n",
       "    <tr>\n",
       "      <th>47</th>\n",
       "      <td>篠崎 良純</td>\n",
       "      <td>横浜市</td>\n",
       "      <td>C</td>\n",
       "    </tr>\n",
       "    <tr>\n",
       "      <th>58</th>\n",
       "      <td>鶴田 俊大</td>\n",
       "      <td>横浜市</td>\n",
       "      <td>D</td>\n",
       "    </tr>\n",
       "    <tr>\n",
       "      <th>69</th>\n",
       "      <td>木村 一平</td>\n",
       "      <td>横浜市</td>\n",
       "      <td>C</td>\n",
       "    </tr>\n",
       "    <tr>\n",
       "      <th>80</th>\n",
       "      <td>三好 哲也</td>\n",
       "      <td>横浜市</td>\n",
       "      <td>A</td>\n",
       "    </tr>\n",
       "    <tr>\n",
       "      <th>91</th>\n",
       "      <td>小笠原 信</td>\n",
       "      <td>横浜市</td>\n",
       "      <td>C</td>\n",
       "    </tr>\n",
       "  </tbody>\n",
       "</table>\n",
       "</div>"
      ],
      "text/plain": [
       "       名前   住所 購入プラン\n",
       "3   山中 武雄  横浜市     B\n",
       "14  児玉 次郎  横浜市     D\n",
       "25   東 太陽  横浜市     B\n",
       "36   小西 博  横浜市     D\n",
       "47  篠崎 良純  横浜市     C\n",
       "58  鶴田 俊大  横浜市     D\n",
       "69  木村 一平  横浜市     C\n",
       "80  三好 哲也  横浜市     A\n",
       "91  小笠原 信  横浜市     C"
      ]
     },
     "execution_count": 46,
     "metadata": {},
     "output_type": "execute_result"
    }
   ],
   "source": [
    "df[df[\"住所\"]==\"横浜市\"]"
   ]
  },
  {
   "cell_type": "code",
   "execution_count": null,
   "id": "608a3888-9b2a-4ad7-879c-afd46b794b64",
   "metadata": {},
   "outputs": [],
   "source": []
  }
 ],
 "metadata": {
  "kernelspec": {
   "display_name": "Python 3 (ipykernel)",
   "language": "python",
   "name": "python3"
  },
  "language_info": {
   "codemirror_mode": {
    "name": "ipython",
    "version": 3
   },
   "file_extension": ".py",
   "mimetype": "text/x-python",
   "name": "python",
   "nbconvert_exporter": "python",
   "pygments_lexer": "ipython3",
   "version": "3.9.13"
  },
  "toc-autonumbering": true,
  "toc-showcode": false,
  "toc-showmarkdowntxt": false,
  "toc-showtags": false,
  "widgets": {
   "application/vnd.jupyter.widget-state+json": {
    "state": {},
    "version_major": 2,
    "version_minor": 0
   }
  }
 },
 "nbformat": 4,
 "nbformat_minor": 5
}
